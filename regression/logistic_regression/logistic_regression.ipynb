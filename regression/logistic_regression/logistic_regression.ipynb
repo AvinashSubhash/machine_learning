{
 "cells": [
  {
   "cell_type": "code",
   "execution_count": 1,
   "metadata": {},
   "outputs": [],
   "source": [
    "import numpy as np\n",
    "import pandas as pd\n",
    "import seaborn as sns\n",
    "import matplotlib.pyplot as plt\n",
    "from sklearn.linear_model import LogisticRegression\n",
    "from sklearn.model_selection import train_test_split"
   ]
  },
  {
   "cell_type": "code",
   "execution_count": 2,
   "metadata": {},
   "outputs": [],
   "source": [
    "import random\n",
    "def creator():\n",
    "    data = np.ones((50,2))\n",
    "    flag = 0\n",
    "    for i in range(50):\n",
    "        num = random.randint(1,100)\n",
    "        if flag == 0:\n",
    "            data[i][0] = random.randint(1,18)\n",
    "            data[i][1] = 0\n",
    "            if num > 20 and num < 40:\n",
    "                data[i][0] = random.randint(14,18)\n",
    "                data[i][1] = 1\n",
    "            else:\n",
    "                data[i][0] = random.randint(14,18)\n",
    "                data[i][1] = 0\n",
    "            flag = 1\n",
    "        elif flag == 1:\n",
    "            data[i][0] = random.randint(18,40)\n",
    "            data[i][1] = 1\n",
    "            flag = 0\n",
    "        #print(data[i],\"\\n\")\n",
    "    return data"
   ]
  },
  {
   "cell_type": "code",
   "execution_count": 3,
   "metadata": {},
   "outputs": [
    {
     "name": "stdout",
     "output_type": "stream",
     "text": [
      "Input Data Shape:  (50, 2)\n"
     ]
    }
   ],
   "source": [
    "input_data= creator()\n",
    "#input_data.reshape((input_data.shape[1],input_data.shape[0]))\n",
    "print(\"Input Data Shape: \",input_data.shape)\n",
    "X_input = input_data[:,0].reshape(input_data[:,0].shape[0],1)\n",
    "Y_input = input_data[:,1].reshape(input_data[:,1].shape[0],1)"
   ]
  },
  {
   "cell_type": "code",
   "execution_count": 4,
   "metadata": {},
   "outputs": [],
   "source": [
    "X_train,X_test,Y_train,Y_test = train_test_split(X_input,Y_input)\n",
    "#print(X_train,Y_train)"
   ]
  },
  {
   "cell_type": "code",
   "execution_count": 5,
   "metadata": {},
   "outputs": [
    {
     "data": {
      "image/png": "[encoded data removed]",
      "text/plain": [
       "<Figure size 432x288 with 1 Axes>"
      ]
     },
     "metadata": {
      "needs_background": "light"
     },
     "output_type": "display_data"
    }
   ],
   "source": [
    "plt.scatter(X_train,Y_train,color=\"red\",)\n",
    "plt.show()"
   ]
  },
  {
   "cell_type": "code",
   "execution_count": 6,
   "metadata": {},
   "outputs": [
    {
     "name": "stdout",
     "output_type": "stream",
     "text": [
      "(37, 1)\n"
     ]
    },
    {
     "name": "stderr",
     "output_type": "stream",
     "text": [
      "/home/avinashsubhash/.local/lib/python3.8/site-packages/sklearn/utils/validation.py:72: DataConversionWarning: A column-vector y was passed when a 1d array was expected. Please change the shape of y to (n_samples, ), for example using ravel().\n",
      "  return f(**kwargs)\n"
     ]
    },
    {
     "data": {
      "image/png": "[encoded data removed]",
      "text/plain": [
       "<Figure size 432x288 with 1 Axes>"
      ]
     },
     "metadata": {
      "needs_background": "light"
     },
     "output_type": "display_data"
    }
   ],
   "source": [
    "model = LogisticRegression()\n",
    "print(X_train.shape)\n",
    "model.fit(X_train,Y_train)\n",
    "X_test.reshape(X_test.shape[0],)\n",
    "prediction = model.predict(X_test)\n",
    "prediction.reshape(prediction.shape[0],)\n",
    "plt.scatter(X_test,Y_test,color=\"red\")\n",
    "plt.scatter(X_test,prediction,color=\"blue\")\n",
    "plt.show()"
   ]
  },
  {
   "cell_type": "code",
   "execution_count": 76,
   "metadata": {},
   "outputs": [
    {
     "name": "stdout",
     "output_type": "stream",
     "text": [
      "Efficiency of the model:  84 %\n"
     ]
    }
   ],
   "source": [
    "print(\"Efficiency of the model: \",int(model.score(X_test,Y_test)*100),\"%\")"
   ]
  },
  {
   "cell_type": "code",
   "execution_count": 74,
   "metadata": {},
   "outputs": [
    {
     "data": {
      "text/plain": [
       "<seaborn.axisgrid.FacetGrid at 0x7fe973daccd0>"
      ]
     },
     "execution_count": 74,
     "metadata": {},
     "output_type": "execute_result"
    },
    {
     "data": {
      "image/png": "[encoded data removed]",
      "text/plain": [
       "<Figure size 402.25x360 with 1 Axes>"
      ]
     },
     "metadata": {
      "needs_background": "light"
     },
     "output_type": "display_data"
    },
    {
     "data": {
      "image/png": "[encoded data removed]",
      "text/plain": [
       "<Figure size 360x360 with 1 Axes>"
      ]
     },
     "metadata": {
      "needs_background": "light"
     },
     "output_type": "display_data"
    }
   ],
   "source": [
    "#sns.histplot(Y_train,color='r')\n",
    "#sns.histplot(prediction)"
   ]
  },
  {
   "cell_type": "code",
   "execution_count": null,
   "metadata": {},
   "outputs": [],
   "source": []
  }
 ],
 "metadata": {
  "kernelspec": {
   "display_name": "Python 3",
   "language": "python",
   "name": "python3"
  },
  "language_info": {
   "codemirror_mode": {
    "name": "ipython",
    "version": 3
   },
   "file_extension": ".py",
   "mimetype": "text/x-python",
   "name": "python",
   "nbconvert_exporter": "python",
   "pygments_lexer": "ipython3",
   "version": "3.8.5"
  }
 },
 "nbformat": 4,
 "nbformat_minor": 4
}
