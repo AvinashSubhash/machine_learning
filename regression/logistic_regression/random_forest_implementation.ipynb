{
 "cells": [
  {
   "cell_type": "code",
   "execution_count": 50,
   "metadata": {},
   "outputs": [],
   "source": [
    "import numpy as np\n",
    "import matplotlib.pyplot as plt\n",
    "from sklearn.ensemble import RandomForestClassifier\n",
    "from sklearn.model_selection import train_test_split\n",
    "import pandas as pd\n",
    "import random"
   ]
  },
  {
   "cell_type": "code",
   "execution_count": 71,
   "metadata": {},
   "outputs": [],
   "source": [
    "def creator():\n",
    "    data = np.ones((50,2))\n",
    "    flag = 0\n",
    "    for i in range(50):\n",
    "        num = random.randint(1,100)\n",
    "        if flag == 0:\n",
    "            data[i][0] = random.randint(1,18)\n",
    "            data[i][1] = 0\n",
    "            if num > 20 and num < 40:\n",
    "                data[i][0] = random.randint(14,18)\n",
    "                data[i][1] = 1\n",
    "            else:\n",
    "                data[i][0] = random.randint(14,18)\n",
    "                data[i][1] = 0\n",
    "            flag = 1\n",
    "        elif flag == 1:\n",
    "            data[i][0] = random.randint(18,40)\n",
    "            data[i][1] = 1\n",
    "            flag = 0\n",
    "        #print(data[i],\"\\n\")\n",
    "    return data"
   ]
  },
  {
   "cell_type": "code",
   "execution_count": 72,
   "metadata": {},
   "outputs": [
    {
     "name": "stdout",
     "output_type": "stream",
     "text": [
      "Input data:- \n",
      "\n"
     ]
    },
    {
     "data": {
      "image/png": "[encoded data removed]",
      "text/plain": [
       "<Figure size 432x288 with 1 Axes>"
      ]
     },
     "metadata": {
      "needs_background": "light"
     },
     "output_type": "display_data"
    }
   ],
   "source": [
    "print(\"Input data:- \\n\")\n",
    "input_data = creator()\n",
    "plt.scatter(input_data[:,0],input_data[:,1])\n",
    "plt.show()"
   ]
  },
  {
   "cell_type": "code",
   "execution_count": 73,
   "metadata": {},
   "outputs": [
    {
     "name": "stdout",
     "output_type": "stream",
     "text": [
      "Training Data Size:  (37, 1) (37, 1)\n",
      "Testing Data Size:  (13, 1) (13, 1)\n"
     ]
    }
   ],
   "source": [
    "X_train,X_test,Y_train,Y_test = train_test_split(input_data[:,0],input_data[:,1])\n",
    "model = RandomForestClassifier() # default value of 100 is used for decision trees\n",
    "X_train = X_train.reshape(X_train.shape[0],1)\n",
    "Y_train = Y_train.reshape(Y_train.shape[0],1)\n",
    "X_test = X_test.reshape(X_test.shape[0],1)\n",
    "Y_test = Y_test.reshape(Y_test.shape[0],1)\n",
    "print(\"Training Data Size: \",X_train.shape,Y_train.shape)\n",
    "print(\"Testing Data Size: \",X_test.shape,Y_test.shape)"
   ]
  },
  {
   "cell_type": "code",
   "execution_count": 74,
   "metadata": {},
   "outputs": [
    {
     "name": "stderr",
     "output_type": "stream",
     "text": [
      "<ipython-input-74-10a35994683e>:1: DataConversionWarning: A column-vector y was passed when a 1d array was expected. Please change the shape of y to (n_samples,), for example using ravel().\n",
      "  model.fit(X_train,Y_train)\n"
     ]
    },
    {
     "name": "stdout",
     "output_type": "stream",
     "text": [
      "Effeciency of the model:  92.3076923076923 %\n"
     ]
    }
   ],
   "source": [
    "model.fit(X_train,Y_train)\n",
    "print(\"Effeciency of the model: \",model.score(X_test,Y_test)*100,\"%\")\n",
    "Y_predict = model.predict(X_test)"
   ]
  },
  {
   "cell_type": "code",
   "execution_count": 80,
   "metadata": {},
   "outputs": [
    {
     "name": "stdout",
     "output_type": "stream",
     "text": [
      "Expected value Vs Prediction Comparison: -\n",
      "\n"
     ]
    },
    {
     "data": {
      "image/png": "[encoded data removed]",
      "text/plain": [
       "<Figure size 432x288 with 1 Axes>"
      ]
     },
     "metadata": {
      "needs_background": "light"
     },
     "output_type": "display_data"
    },
    {
     "data": {
      "image/png": "[encoded data removed]",
      "text/plain": [
       "<Figure size 432x288 with 1 Axes>"
      ]
     },
     "metadata": {
      "needs_background": "light"
     },
     "output_type": "display_data"
    }
   ],
   "source": [
    "print(\"Expected value Vs Prediction Comparison: -\\n\")\n",
    "plt.scatter(X_test,Y_test,color=\"blue\")\n",
    "plt.show()\n",
    "plt.scatter(X_test,Y_predict,color=\"red\")\n",
    "plt.show()"
   ]
  },
  {
   "cell_type": "code",
   "execution_count": null,
   "metadata": {},
   "outputs": [],
   "source": []
  }
 ],
 "metadata": {
  "kernelspec": {
   "display_name": "Python 3",
   "language": "python",
   "name": "python3"
  },
  "language_info": {
   "codemirror_mode": {
    "name": "ipython",
    "version": 3
   },
   "file_extension": ".py",
   "mimetype": "text/x-python",
   "name": "python",
   "nbconvert_exporter": "python",
   "pygments_lexer": "ipython3",
   "version": "3.8.5"
  }
 },
 "nbformat": 4,
 "nbformat_minor": 4
}
